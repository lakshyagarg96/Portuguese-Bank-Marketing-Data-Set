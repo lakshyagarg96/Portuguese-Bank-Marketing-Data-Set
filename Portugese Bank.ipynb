{
 "cells": [
  {
   "cell_type": "code",
   "execution_count": 168,
   "id": "6e56a170",
   "metadata": {},
   "outputs": [],
   "source": [
    "import pandas as pd\n",
    "import numpy as np\n",
    "import matplotlib.pyplot as plt\n",
    "from sklearn.ensemble import RandomForestClassifier\n",
    "from sklearn.model_selection import train_test_split\n",
    "from sklearn.model_selection import GridSearchCV\n",
    "from sklearn import metrics\n",
    "import warnings\n",
    "from skopt import BayesSearchCV\n",
    "from sklearn.model_selection import RandomizedSearchCV, GridSearchCV, train_test_split\n",
    "from sklearn.metrics import classification_report\n",
    "from sklearn.preprocessing import StandardScaler\n",
    "from sklearn.linear_model import LogisticRegression\n",
    "import xgboost as xgb\n",
    "import scikitplot as skplt"
   ]
  },
  {
   "cell_type": "code",
   "execution_count": 169,
   "id": "0c217104",
   "metadata": {},
   "outputs": [],
   "source": [
    "# Figure out why seperator is not working\n",
    "# df = pd.read_csv('/Users/lakshyagarg/Downloads/stage2_qas_case_study/Marketing Campaign Data.csv',delimiter = ';')\n",
    "\n",
    "df = pd.read_csv('/Users/lakshyagarg/Downloads/changed/Marketing Campaign Data.csv',delimiter = ',')"
   ]
  },
  {
   "cell_type": "code",
   "execution_count": 170,
   "id": "c0e0b958",
   "metadata": {},
   "outputs": [
    {
     "data": {
      "text/html": [
       "<div>\n",
       "<style scoped>\n",
       "    .dataframe tbody tr th:only-of-type {\n",
       "        vertical-align: middle;\n",
       "    }\n",
       "\n",
       "    .dataframe tbody tr th {\n",
       "        vertical-align: top;\n",
       "    }\n",
       "\n",
       "    .dataframe thead th {\n",
       "        text-align: right;\n",
       "    }\n",
       "</style>\n",
       "<table border=\"1\" class=\"dataframe\">\n",
       "  <thead>\n",
       "    <tr style=\"text-align: right;\">\n",
       "      <th></th>\n",
       "      <th>age</th>\n",
       "      <th>job</th>\n",
       "      <th>marital</th>\n",
       "      <th>education</th>\n",
       "      <th>default</th>\n",
       "      <th>balance</th>\n",
       "      <th>housing</th>\n",
       "      <th>loan</th>\n",
       "      <th>contact</th>\n",
       "      <th>day</th>\n",
       "      <th>month</th>\n",
       "      <th>duration</th>\n",
       "      <th>campaign</th>\n",
       "      <th>pdays</th>\n",
       "      <th>previous</th>\n",
       "      <th>poutcome</th>\n",
       "      <th>y</th>\n",
       "    </tr>\n",
       "  </thead>\n",
       "  <tbody>\n",
       "    <tr>\n",
       "      <th>0</th>\n",
       "      <td>36.0</td>\n",
       "      <td>management</td>\n",
       "      <td>married</td>\n",
       "      <td>tertiary</td>\n",
       "      <td>no</td>\n",
       "      <td>101</td>\n",
       "      <td>yes</td>\n",
       "      <td>yes</td>\n",
       "      <td>unknown</td>\n",
       "      <td>5</td>\n",
       "      <td>may</td>\n",
       "      <td>426</td>\n",
       "      <td>1</td>\n",
       "      <td>-1</td>\n",
       "      <td>0</td>\n",
       "      <td>unknown</td>\n",
       "      <td>no</td>\n",
       "    </tr>\n",
       "    <tr>\n",
       "      <th>1</th>\n",
       "      <td>57.0</td>\n",
       "      <td>technician</td>\n",
       "      <td>married</td>\n",
       "      <td>unknown</td>\n",
       "      <td>no</td>\n",
       "      <td>206</td>\n",
       "      <td>yes</td>\n",
       "      <td>no</td>\n",
       "      <td>unknown</td>\n",
       "      <td>5</td>\n",
       "      <td>may</td>\n",
       "      <td>216</td>\n",
       "      <td>3</td>\n",
       "      <td>-1</td>\n",
       "      <td>0</td>\n",
       "      <td>unknown</td>\n",
       "      <td>no</td>\n",
       "    </tr>\n",
       "    <tr>\n",
       "      <th>2</th>\n",
       "      <td>54.0</td>\n",
       "      <td>services</td>\n",
       "      <td>married</td>\n",
       "      <td>secondary</td>\n",
       "      <td>yes</td>\n",
       "      <td>0</td>\n",
       "      <td>yes</td>\n",
       "      <td>no</td>\n",
       "      <td>unknown</td>\n",
       "      <td>6</td>\n",
       "      <td>may</td>\n",
       "      <td>138</td>\n",
       "      <td>3</td>\n",
       "      <td>-1</td>\n",
       "      <td>0</td>\n",
       "      <td>unknown</td>\n",
       "      <td>no</td>\n",
       "    </tr>\n",
       "    <tr>\n",
       "      <th>3</th>\n",
       "      <td>51.0</td>\n",
       "      <td>blue-collar</td>\n",
       "      <td>married</td>\n",
       "      <td>secondary</td>\n",
       "      <td>no</td>\n",
       "      <td>50</td>\n",
       "      <td>yes</td>\n",
       "      <td>yes</td>\n",
       "      <td>unknown</td>\n",
       "      <td>6</td>\n",
       "      <td>may</td>\n",
       "      <td>121</td>\n",
       "      <td>1</td>\n",
       "      <td>-1</td>\n",
       "      <td>0</td>\n",
       "      <td>unknown</td>\n",
       "      <td>no</td>\n",
       "    </tr>\n",
       "    <tr>\n",
       "      <th>4</th>\n",
       "      <td>49.0</td>\n",
       "      <td>technician</td>\n",
       "      <td>married</td>\n",
       "      <td>unknown</td>\n",
       "      <td>no</td>\n",
       "      <td>15</td>\n",
       "      <td>no</td>\n",
       "      <td>no</td>\n",
       "      <td>unknown</td>\n",
       "      <td>6</td>\n",
       "      <td>may</td>\n",
       "      <td>92</td>\n",
       "      <td>2</td>\n",
       "      <td>-1</td>\n",
       "      <td>0</td>\n",
       "      <td>unknown</td>\n",
       "      <td>no</td>\n",
       "    </tr>\n",
       "  </tbody>\n",
       "</table>\n",
       "</div>"
      ],
      "text/plain": [
       "    age          job  marital  education default  balance housing loan  \\\n",
       "0  36.0   management  married   tertiary      no      101     yes  yes   \n",
       "1  57.0   technician  married    unknown      no      206     yes   no   \n",
       "2  54.0     services  married  secondary     yes        0     yes   no   \n",
       "3  51.0  blue-collar  married  secondary      no       50     yes  yes   \n",
       "4  49.0   technician  married    unknown      no       15      no   no   \n",
       "\n",
       "   contact  day month  duration  campaign  pdays  previous poutcome   y  \n",
       "0  unknown    5   may       426         1     -1         0  unknown  no  \n",
       "1  unknown    5   may       216         3     -1         0  unknown  no  \n",
       "2  unknown    6   may       138         3     -1         0  unknown  no  \n",
       "3  unknown    6   may       121         1     -1         0  unknown  no  \n",
       "4  unknown    6   may        92         2     -1         0  unknown  no  "
      ]
     },
     "execution_count": 170,
     "metadata": {},
     "output_type": "execute_result"
    }
   ],
   "source": [
    "df.head(5)"
   ]
  },
  {
   "cell_type": "code",
   "execution_count": 171,
   "id": "24efa938",
   "metadata": {},
   "outputs": [
    {
     "name": "stdout",
     "output_type": "stream",
     "text": [
      "(42600, 17)\n"
     ]
    }
   ],
   "source": [
    "print (df.shape)"
   ]
  },
  {
   "cell_type": "markdown",
   "id": "417fce3e",
   "metadata": {},
   "source": [
    "# Data Cleaning"
   ]
  },
  {
   "cell_type": "code",
   "execution_count": 172,
   "id": "dfaabc97",
   "metadata": {},
   "outputs": [
    {
     "name": "stdout",
     "output_type": "stream",
     "text": [
      "age          2656\n",
      "job          1409\n",
      "marital      1338\n",
      "education     660\n",
      "default         0\n",
      "balance         0\n",
      "housing         0\n",
      "loan         2596\n",
      "contact         0\n",
      "day             0\n",
      "month           0\n",
      "duration        0\n",
      "campaign        0\n",
      "pdays           0\n",
      "previous        0\n",
      "poutcome        0\n",
      "y               0\n",
      "dtype: int64\n"
     ]
    }
   ],
   "source": [
    "print(df.isna().sum())"
   ]
  },
  {
   "cell_type": "code",
   "execution_count": 173,
   "id": "4d6a3780",
   "metadata": {},
   "outputs": [
    {
     "name": "stdout",
     "output_type": "stream",
     "text": [
      "#####################################\n",
      "column name: age\n",
      "[36. 57. 54. 51. 49. 39. 35. 42. 40. 44. 43. 27. 29. 55. 46. 41. 37. 31.\n",
      " 30. 47. 28. 32. 38. 26. 25. 53. 60. 34. 45. 50. 33. 58. 22. 21. 24. 48.\n",
      " 56. 52. 59. 66. 62. 67. 63. 64. 82. 73. 95. 77. 19. 76. 72. 74. 84. 23.\n",
      " 65. 70. 61. 75. 79. 83. 71. nan 78. 18. 68. 20. 80. 81. 85. 69. 86. 94.\n",
      " 93. 89. 88. 90.]\n",
      "#####################################\n",
      "#####################################\n",
      "column name: job\n",
      "['management' 'technician' 'services' 'blue-collar' 'admin.' 'unemployed'\n",
      " 'self-employed' 'retired' 'entrepreneur' 'student' 'housemaid' 'unknown'\n",
      " nan]\n",
      "#####################################\n",
      "#####################################\n",
      "column name: marital\n",
      "['married' 'single' 'divorced' nan]\n",
      "#####################################\n",
      "#####################################\n",
      "column name: education\n",
      "['tertiary' 'unknown' 'secondary' 'primary' nan]\n",
      "#####################################\n",
      "#####################################\n",
      "column name: default\n",
      "['no' 'yes']\n",
      "#####################################\n",
      "#####################################\n",
      "column name: balance\n",
      "[  101   206     0 ...  8402  4196 17332]\n",
      "#####################################\n",
      "#####################################\n",
      "column name: housing\n",
      "['yes' 'no']\n",
      "#####################################\n",
      "#####################################\n",
      "column name: loan\n",
      "['yes' 'no' nan]\n",
      "#####################################\n",
      "#####################################\n",
      "column name: contact\n",
      "['unknown' 'cellular' 'telephone']\n",
      "#####################################\n",
      "#####################################\n",
      "column name: day\n",
      "[ 5  6  7  8  9 12 13 14 15 16 19 20 21 23 26 27 28 29 30  2  3  4 11 17\n",
      " 18 24  1 10 22 25 31]\n",
      "#####################################\n",
      "#####################################\n",
      "column name: month\n",
      "['may' 'jun' 'jul' 'aug' 'oct' 'nov' 'jan' 'feb' 'mar' 'apr' 'sep' 'dec']\n",
      "#####################################\n",
      "#####################################\n",
      "column name: duration\n",
      "[ 426  216  138 ... 2462  987 1569]\n",
      "#####################################\n",
      "#####################################\n",
      "column name: campaign\n",
      "[ 1  3  2  7  4  5 11  8  6 10 13 15 16 18 31 24 43  9 35 33 25 23 17 12\n",
      " 21 22 19 14 30 20 29 32 27 36 50 26 28 41 34 37 58 63 38 39 44 55 51 46]\n",
      "#####################################\n",
      "#####################################\n",
      "column name: pdays\n",
      "[ -1 147 186 110 189 113 112 178 184 127 154 183 171 245 182 266 255 244\n",
      " 270 273 272 231 275 212  85 106  49 135 225 253 261 321 323 341 149 267\n",
      " 324 319 346 308 335 342  84  87 263 360 358 336 168 363 297 356 368 371\n",
      " 264 286 362 298 309 352 370 365 344 340 277 353 355 180 105  81 134 389\n",
      " 385 190 104  88  93 120  82 204 196 199  92  90 185  86 181 478 188 364\n",
      "  89 414 159 233  59 197 111  94 173 172 124 117 174 155  91  71 176 247\n",
      " 259   2   6 271   8 177 210 331 265 140 146 318 315 160  80 343 250 345\n",
      " 366 170 252 350 351 175 287 367 306 299 145 137 169 156 251 256  74 338\n",
      " 150 329  13  83 167 357 276 347  69 101  96 462 191 561 553 179  78 339\n",
      " 136 118 131 246 227 242   9 192 103 313 300 301 359 332 369 348  98 133\n",
      "  12 234 305 322 320 294 337  79  95  28 129 291 195 116 281 327 303  34\n",
      " 152 330 229 224 317 240 349  97 148 284 187 100 205 258 206 161 221  60\n",
      " 141 153 260 354  29  99  70  68 158 157  76 201 208 268 269 254  35 334\n",
      " 292 151 279 213 562 122 193 314 328 310 123 119 223 257 102 238 215 121\n",
      "   1 235 198 220 200 508   5 307 361  20 248 278 524 285 532 130 412 326\n",
      "  39 226 108 311 312 214 289  62 164 209 282 217 228 262 211 302  66 372\n",
      " 378 393 459 828 304 760 530 109 216 325 374 126 230 202 132 139 421 237\n",
      "  22  14 194 274 296 115  40 463  58 775 166  75 232 222 128 138 143 449\n",
      " 295  21 771 288  55  57 589 163 333 165 203 114  43 293  64 701  24 125\n",
      " 249  17 626  77 442 470 241 316  50 107 520 778 444 290 162  67  51 243\n",
      " 491 236  27   7  72  48 376 686 784 850 280 239 377 399 219 543 427  44\n",
      " 670 518  63 142 391  10 728  31  19 776 430  15 426 585 283  65 555 390\n",
      " 424 409 469 395 207 373 687 383 779 144 557 381 401 457 690 492  42   4\n",
      " 460  41 392 521 432 380 386 433 490 792  26 384 440  47 397  36 616 420\n",
      " 461  46 531 749 435 592 475  56  73  38 535 388 410 486  25   3 515 674\n",
      " 504 434 415 842  61 477 500 452 547  37 405 425 436 446 656 651 474 439\n",
      " 379 489 586 648  30 464 375 774 455 419 404  32 465]\n",
      "#####################################\n",
      "#####################################\n",
      "column name: previous\n",
      "[  0   2   3   6   4   1   5  24   8   9   7  10  12  11  38  22  30  19\n",
      "  23  32  14  40  13  16  29  27  17  20  51  15  25  18  41  37  55  58\n",
      "  26  21  35  28 275]\n",
      "#####################################\n",
      "#####################################\n",
      "column name: poutcome\n",
      "['unknown' 'success' 'failure' 'other']\n",
      "#####################################\n",
      "#####################################\n",
      "column name: y\n",
      "['no' 'yes']\n",
      "#####################################\n"
     ]
    }
   ],
   "source": [
    "for x in df.columns:\n",
    "    print ('#####################################')\n",
    "    print ('column name:',x)\n",
    "    print (df[x].unique())\n",
    "    print ('#####################################')"
   ]
  },
  {
   "cell_type": "code",
   "execution_count": 174,
   "id": "284f4520",
   "metadata": {},
   "outputs": [],
   "source": [
    "# Replacing Nans\n",
    "df['job'] =  df['job'].fillna('unknown')\n",
    "\n",
    "# Assumption changed unknown to uknown too ##### CHECK AGAIN #####\n",
    "df['marital'] =  df['marital'].fillna('unknown')\n",
    "\n",
    "df['education'] =  df['education'].fillna('unknown')\n",
    "\n",
    "df['loan'] =  df['loan'].fillna('no')"
   ]
  },
  {
   "cell_type": "code",
   "execution_count": 175,
   "id": "00d11110",
   "metadata": {},
   "outputs": [
    {
     "name": "stdout",
     "output_type": "stream",
     "text": [
      "             balance      duration           age\n",
      "count   42600.000000  42600.000000  39944.000000\n",
      "mean     1329.301643    256.533310     40.725015\n",
      "std      2999.014702    257.911496     10.162608\n",
      "min     -8019.000000      0.000000     18.000000\n",
      "25%        65.000000    102.000000     33.000000\n",
      "50%       432.000000    178.000000     39.000000\n",
      "75%      1384.250000    317.000000     48.000000\n",
      "max    102127.000000   4918.000000     95.000000\n"
     ]
    }
   ],
   "source": [
    "# Checking distribution of continious columns balance (3217 entries balance < 0) and duration \n",
    "print (df[[\"balance\", \"duration\",\"age\"]].describe())"
   ]
  },
  {
   "cell_type": "code",
   "execution_count": 176,
   "id": "0bf82484",
   "metadata": {},
   "outputs": [
    {
     "name": "stdout",
     "output_type": "stream",
     "text": [
      "(35776, 17)\n"
     ]
    }
   ],
   "source": [
    "# Replacing p days value of -1 to 0 for 35776 entries\n",
    "df_p = df[df['pdays'] == -1]\n",
    "print (df_p.shape)\n",
    "df['pdays'] = df['pdays'].apply(lambda x: 0 if x == -1 else x)"
   ]
  },
  {
   "cell_type": "code",
   "execution_count": 177,
   "id": "650642d4",
   "metadata": {},
   "outputs": [
    {
     "name": "stdout",
     "output_type": "stream",
     "text": [
      "poutcome\n",
      "failure     4315\n",
      "other       1592\n",
      "success      914\n",
      "unknown    35779\n",
      "dtype: int64\n",
      "######\n",
      "poutcome\n",
      "unknown    35776\n",
      "dtype: int64\n"
     ]
    }
   ],
   "source": [
    "# Checking the count of distinct values in outcome column\n",
    "df_g_outcome = df.groupby(['poutcome']).size()\n",
    "df_p_g_outcome = df_p.groupby(['poutcome']).size()\n",
    "print (df_g_outcome.head(10))\n",
    "print ('######')\n",
    "print (df_p_g_outcome.head(10))"
   ]
  },
  {
   "cell_type": "code",
   "execution_count": 178,
   "id": "62afff28",
   "metadata": {},
   "outputs": [
    {
     "data": {
      "text/plain": [
       "y\n",
       "no     38400\n",
       "yes     4200\n",
       "dtype: int64"
      ]
     },
     "execution_count": 178,
     "metadata": {},
     "output_type": "execute_result"
    }
   ],
   "source": [
    "# y group by shape\n",
    "# This is an imbalanced classification problem\n",
    "df_y = df.groupby(df['y']).size()\n",
    "df_y.head(10)"
   ]
  },
  {
   "cell_type": "code",
   "execution_count": 179,
   "id": "44098e89",
   "metadata": {},
   "outputs": [
    {
     "name": "stdout",
     "output_type": "stream",
     "text": [
      "(39944, 17)\n"
     ]
    }
   ],
   "source": [
    "# dropping those rows where age is NA as age cannot be imputed\n",
    "df = df.dropna(subset=['age'])\n",
    "df['job'] = df['job'].apply(lambda x: 'admin' if x == 'admin.' else x)\n",
    "df['y'] = df['y'].apply(lambda x: 1 if x == 'yes' else 0)\n",
    "print (df.shape)"
   ]
  },
  {
   "cell_type": "markdown",
   "id": "c138e1ff",
   "metadata": {},
   "source": [
    "# EDA"
   ]
  },
  {
   "cell_type": "code",
   "execution_count": 180,
   "id": "08b41a83",
   "metadata": {},
   "outputs": [],
   "source": [
    "df_eda = df.copy()"
   ]
  },
  {
   "cell_type": "code",
   "execution_count": 181,
   "id": "d2a9bc65",
   "metadata": {},
   "outputs": [],
   "source": [
    "def buckets(x):\n",
    "    x = int(x)\n",
    "    a = ''\n",
    "    if x >= 0 and x < 15:\n",
    "        a = '0 to 15'\n",
    "    elif x >= 15 and x < 30:\n",
    "        a = '15 to 30'\n",
    "    elif x >= 30 and x < 45:\n",
    "        a = '30 to 45'\n",
    "    elif x >= 45 and x < 60:\n",
    "        a = '45 to 60'\n",
    "    elif x >= 60 and x < 75:\n",
    "        a = '60 to 75'\n",
    "    elif x >= 75 and x < 90:\n",
    "        a = '75 to 90'\n",
    "    else:\n",
    "        a = '90 to 105'\n",
    "    return a\n",
    "\n",
    "df_eda['age_buckets'] = df_eda['age'].apply(buckets)"
   ]
  },
  {
   "cell_type": "code",
   "execution_count": 182,
   "id": "fab82973",
   "metadata": {},
   "outputs": [
    {
     "name": "stdout",
     "output_type": "stream",
     "text": [
      "39944\n",
      "39944\n",
      "11428\n",
      "39944\n",
      "39944\n"
     ]
    }
   ],
   "source": [
    "df_age_groupby = df_eda.groupby(['age_buckets']).agg({'age':'size', 'y':'sum'})\n",
    "df_age_groupby = df_age_groupby.reset_index()\n",
    "df_age_groupby.columns = ['age_buckets', 'number_of_people','conversions']\n",
    "df_age_groupby['conversion_percent'] = round((df_age_groupby['conversions']/df_age_groupby['number_of_people'])*100,2)\n",
    "print (df_age_groupby['number_of_people'].sum())\n",
    "\n",
    "\n",
    "df_jobs_groupby = df_eda.groupby(['job']).agg({'age':'size', 'y':'sum'})\n",
    "df_jobs_groupby = df_jobs_groupby.reset_index()\n",
    "df_jobs_groupby.columns = ['jobs', 'number_of_people','conversions']\n",
    "df_jobs_groupby['conversion_percent'] = round((df_jobs_groupby['conversions']/df_jobs_groupby['number_of_people'])*100,2)\n",
    "print (df_jobs_groupby['number_of_people'].sum())\n",
    "\n",
    "\n",
    "\n",
    "df_eda_martial_filter = df_eda[ df_eda['education'] == 'tertiary']\n",
    "df_Maritial_groupby = df_eda_martial_filter.groupby(['marital']).agg({'age':'size', 'y':'sum'})\n",
    "df_Maritial_groupby = df_Maritial_groupby.reset_index()\n",
    "df_Maritial_groupby.columns = ['marital', 'number_of_people','conversions']\n",
    "df_Maritial_groupby['conversion_percent'] = round((df_Maritial_groupby['conversions']/df_Maritial_groupby['number_of_people'])*100,2)\n",
    "print (df_Maritial_groupby['number_of_people'].sum())\n",
    "\n",
    "\n",
    "df_education_groupby = df_eda.groupby(['education']).agg({'age':'size', 'y':'sum'})\n",
    "df_education_groupby = df_education_groupby.reset_index()\n",
    "df_education_groupby.columns = ['education', 'number_of_people','conversions']\n",
    "df_education_groupby['conversion_percent'] = round((df_education_groupby['conversions']/df_education_groupby['number_of_people'])*100,2)\n",
    "print (df_education_groupby['number_of_people'].sum())\n",
    "\n",
    "\n",
    "df_month_groupby = df_eda.groupby(['month']).agg({'age':'size', 'y':'sum'})\n",
    "df_month_groupby = df_month_groupby.reset_index()\n",
    "df_month_groupby.columns = ['month', 'number_of_people','conversions']\n",
    "df_month_groupby['conversion_percent'] = round((df_month_groupby['conversions']/df_month_groupby['number_of_people'])*100,2)\n",
    "\n",
    "print (df_month_groupby['number_of_people'].sum())\n"
   ]
  },
  {
   "cell_type": "code",
   "execution_count": 183,
   "id": "29615cbd",
   "metadata": {},
   "outputs": [
    {
     "data": {
      "text/html": [
       "<div>\n",
       "<style scoped>\n",
       "    .dataframe tbody tr th:only-of-type {\n",
       "        vertical-align: middle;\n",
       "    }\n",
       "\n",
       "    .dataframe tbody tr th {\n",
       "        vertical-align: top;\n",
       "    }\n",
       "\n",
       "    .dataframe thead th {\n",
       "        text-align: right;\n",
       "    }\n",
       "</style>\n",
       "<table border=\"1\" class=\"dataframe\">\n",
       "  <thead>\n",
       "    <tr style=\"text-align: right;\">\n",
       "      <th></th>\n",
       "      <th>age_buckets</th>\n",
       "      <th>number_of_people</th>\n",
       "      <th>conversions</th>\n",
       "      <th>conversion_percent</th>\n",
       "    </tr>\n",
       "  </thead>\n",
       "  <tbody>\n",
       "    <tr>\n",
       "      <th>0</th>\n",
       "      <td>15 to 30</td>\n",
       "      <td>4492</td>\n",
       "      <td>665</td>\n",
       "      <td>14.80</td>\n",
       "    </tr>\n",
       "    <tr>\n",
       "      <th>1</th>\n",
       "      <td>30 to 45</td>\n",
       "      <td>21827</td>\n",
       "      <td>1921</td>\n",
       "      <td>8.80</td>\n",
       "    </tr>\n",
       "    <tr>\n",
       "      <th>2</th>\n",
       "      <td>45 to 60</td>\n",
       "      <td>12459</td>\n",
       "      <td>1000</td>\n",
       "      <td>8.03</td>\n",
       "    </tr>\n",
       "    <tr>\n",
       "      <th>3</th>\n",
       "      <td>60 to 75</td>\n",
       "      <td>1002</td>\n",
       "      <td>277</td>\n",
       "      <td>27.64</td>\n",
       "    </tr>\n",
       "    <tr>\n",
       "      <th>4</th>\n",
       "      <td>75 to 90</td>\n",
       "      <td>159</td>\n",
       "      <td>67</td>\n",
       "      <td>42.14</td>\n",
       "    </tr>\n",
       "    <tr>\n",
       "      <th>5</th>\n",
       "      <td>90 to 105</td>\n",
       "      <td>5</td>\n",
       "      <td>3</td>\n",
       "      <td>60.00</td>\n",
       "    </tr>\n",
       "  </tbody>\n",
       "</table>\n",
       "</div>"
      ],
      "text/plain": [
       "  age_buckets  number_of_people  conversions  conversion_percent\n",
       "0    15 to 30              4492          665               14.80\n",
       "1    30 to 45             21827         1921                8.80\n",
       "2    45 to 60             12459         1000                8.03\n",
       "3    60 to 75              1002          277               27.64\n",
       "4    75 to 90               159           67               42.14\n",
       "5   90 to 105                 5            3               60.00"
      ]
     },
     "execution_count": 183,
     "metadata": {},
     "output_type": "execute_result"
    }
   ],
   "source": [
    "df_age_groupby.head(10)"
   ]
  },
  {
   "cell_type": "code",
   "execution_count": 184,
   "id": "4b5e0d2f",
   "metadata": {},
   "outputs": [
    {
     "data": {
      "image/png": "[encoded data removed]",
      "text/plain": [
       "<Figure size 432x288 with 1 Axes>"
      ]
     },
     "metadata": {
      "needs_background": "light"
     },
     "output_type": "display_data"
    }
   ],
   "source": [
    "# Age bucket distribution\n",
    "ax = df_age_groupby.plot(x=\"age_buckets\", y=[\"conversion_percent\"], kind=\"bar\", legend=False)\n",
    "ax.bar_label(ax.containers[0], label_type='edge')\n",
    "# plt.title ('Converion rate X Age Distribution')\n",
    "plt.ylim(0, 65)\n",
    "plt.xlabel ('Age Buckets')\n",
    "plt.ylabel ('Conversion Percentage')\n",
    "plt.show()"
   ]
  },
  {
   "cell_type": "code",
   "execution_count": 185,
   "id": "ebba86be",
   "metadata": {},
   "outputs": [
    {
     "data": {
      "image/png": "[encoded data removed]",
      "text/plain": [
       "<Figure size 432x288 with 1 Axes>"
      ]
     },
     "metadata": {
      "needs_background": "light"
     },
     "output_type": "display_data"
    }
   ],
   "source": [
    "# Jobs distribution\n",
    "ax = df_jobs_groupby.plot(x=\"jobs\", y=[\"conversion_percent\"], kind=\"bar\", legend=False)\n",
    "ax.bar_label(ax.containers[0], label_type='edge')\n",
    "# plt.title ('Phone calls X Job Distribution')\n",
    "plt.xlabel ('Occupation')\n",
    "plt.ylabel ('Conversion Percentage')\n",
    "plt.ylim(0, 26)\n",
    "plt.show()"
   ]
  },
  {
   "cell_type": "code",
   "execution_count": 186,
   "id": "0299c7b5",
   "metadata": {},
   "outputs": [
    {
     "data": {
      "image/png": "[encoded data removed]",
      "text/plain": [
       "<Figure size 432x288 with 1 Axes>"
      ]
     },
     "metadata": {
      "needs_background": "light"
     },
     "output_type": "display_data"
    }
   ],
   "source": [
    "# Maritial distribution\n",
    "\n",
    "\n",
    "ax = df_Maritial_groupby.plot(x=\"marital\", y=[\"conversion_percent\"], kind=\"bar\", legend=False, color = 'blue')\n",
    "ax.bar_label(ax.containers[0], label_type='edge')\n",
    "# plt.title ('Phone calls X Married status')\n",
    "plt.xlabel ('Maritial Status')\n",
    "plt.ylim(0, 18)\n",
    "plt.ylabel ('Conversion percentage')\n",
    "plt.show()"
   ]
  },
  {
   "cell_type": "code",
   "execution_count": 187,
   "id": "8495f941",
   "metadata": {},
   "outputs": [
    {
     "data": {
      "image/png": "[encoded data removed]",
      "text/plain": [
       "<Figure size 432x288 with 1 Axes>"
      ]
     },
     "metadata": {
      "needs_background": "light"
     },
     "output_type": "display_data"
    }
   ],
   "source": [
    "# Education distribution\n",
    "\n",
    "# colors = [\"blue\" if i == 'tertiary' else \"cyan\" for i in df_education_groupby['education']]\n",
    "\n",
    "\n",
    "ax = df_education_groupby.plot(x=\"education\", y=[\"conversion_percent\"], kind=\"bar\", legend=False)\n",
    "ax.bar_label(ax.containers[0], label_type='edge')\n",
    "# plt.title ('Phone calls X Education level')\n",
    "plt.xlabel ('Level of education')\n",
    "plt.ylim(0, 16)\n",
    "plt.ylabel ('Conversion percentage')\n",
    "plt.show()"
   ]
  },
  {
   "cell_type": "code",
   "execution_count": 188,
   "id": "40fd1319",
   "metadata": {},
   "outputs": [
    {
     "data": {
      "text/html": [
       "<div>\n",
       "<style scoped>\n",
       "    .dataframe tbody tr th:only-of-type {\n",
       "        vertical-align: middle;\n",
       "    }\n",
       "\n",
       "    .dataframe tbody tr th {\n",
       "        vertical-align: top;\n",
       "    }\n",
       "\n",
       "    .dataframe thead th {\n",
       "        text-align: right;\n",
       "    }\n",
       "</style>\n",
       "<table border=\"1\" class=\"dataframe\">\n",
       "  <thead>\n",
       "    <tr style=\"text-align: right;\">\n",
       "      <th></th>\n",
       "      <th>education</th>\n",
       "      <th>number_of_people</th>\n",
       "      <th>conversions</th>\n",
       "      <th>conversion_percent</th>\n",
       "    </tr>\n",
       "  </thead>\n",
       "  <tbody>\n",
       "    <tr>\n",
       "      <th>0</th>\n",
       "      <td>primary</td>\n",
       "      <td>6035</td>\n",
       "      <td>436</td>\n",
       "      <td>7.22</td>\n",
       "    </tr>\n",
       "    <tr>\n",
       "      <th>1</th>\n",
       "      <td>secondary</td>\n",
       "      <td>20314</td>\n",
       "      <td>1823</td>\n",
       "      <td>8.97</td>\n",
       "    </tr>\n",
       "    <tr>\n",
       "      <th>2</th>\n",
       "      <td>tertiary</td>\n",
       "      <td>11428</td>\n",
       "      <td>1452</td>\n",
       "      <td>12.71</td>\n",
       "    </tr>\n",
       "    <tr>\n",
       "      <th>3</th>\n",
       "      <td>unknown</td>\n",
       "      <td>2167</td>\n",
       "      <td>222</td>\n",
       "      <td>10.24</td>\n",
       "    </tr>\n",
       "  </tbody>\n",
       "</table>\n",
       "</div>"
      ],
      "text/plain": [
       "   education  number_of_people  conversions  conversion_percent\n",
       "0    primary              6035          436                7.22\n",
       "1  secondary             20314         1823                8.97\n",
       "2   tertiary             11428         1452               12.71\n",
       "3    unknown              2167          222               10.24"
      ]
     },
     "execution_count": 188,
     "metadata": {},
     "output_type": "execute_result"
    }
   ],
   "source": [
    "df_education_groupby.head(10)"
   ]
  },
  {
   "cell_type": "markdown",
   "id": "aa946d1a",
   "metadata": {},
   "source": [
    "# Time distribution"
   ]
  },
  {
   "cell_type": "code",
   "execution_count": 189,
   "id": "3ce92774",
   "metadata": {},
   "outputs": [],
   "source": [
    "d = {\n",
    "    'apr':4, 'aug':8, 'dec':12, 'feb':2, 'jan':1, 'jul':7, 'jun':6, 'mar':3, 'may':5,\n",
    "       'nov':11, 'oct':10, 'sep':9}\n",
    "df_month_groupby.month = df_month_groupby.month.map(d)\n",
    "df_month_groupby.sort_values(by='month',inplace=True)"
   ]
  },
  {
   "cell_type": "code",
   "execution_count": 190,
   "id": "1773818e",
   "metadata": {},
   "outputs": [
    {
     "data": {
      "text/html": [
       "<div>\n",
       "<style scoped>\n",
       "    .dataframe tbody tr th:only-of-type {\n",
       "        vertical-align: middle;\n",
       "    }\n",
       "\n",
       "    .dataframe tbody tr th {\n",
       "        vertical-align: top;\n",
       "    }\n",
       "\n",
       "    .dataframe thead th {\n",
       "        text-align: right;\n",
       "    }\n",
       "</style>\n",
       "<table border=\"1\" class=\"dataframe\">\n",
       "  <thead>\n",
       "    <tr style=\"text-align: right;\">\n",
       "      <th></th>\n",
       "      <th>month</th>\n",
       "      <th>number_of_people</th>\n",
       "      <th>conversions</th>\n",
       "      <th>conversion_percent</th>\n",
       "    </tr>\n",
       "  </thead>\n",
       "  <tbody>\n",
       "    <tr>\n",
       "      <th>4</th>\n",
       "      <td>1</td>\n",
       "      <td>1181</td>\n",
       "      <td>76</td>\n",
       "      <td>6.44</td>\n",
       "    </tr>\n",
       "    <tr>\n",
       "      <th>3</th>\n",
       "      <td>2</td>\n",
       "      <td>2324</td>\n",
       "      <td>325</td>\n",
       "      <td>13.98</td>\n",
       "    </tr>\n",
       "    <tr>\n",
       "      <th>7</th>\n",
       "      <td>3</td>\n",
       "      <td>347</td>\n",
       "      <td>181</td>\n",
       "      <td>52.16</td>\n",
       "    </tr>\n",
       "    <tr>\n",
       "      <th>0</th>\n",
       "      <td>4</td>\n",
       "      <td>2623</td>\n",
       "      <td>493</td>\n",
       "      <td>18.80</td>\n",
       "    </tr>\n",
       "    <tr>\n",
       "      <th>8</th>\n",
       "      <td>5</td>\n",
       "      <td>12571</td>\n",
       "      <td>796</td>\n",
       "      <td>6.33</td>\n",
       "    </tr>\n",
       "  </tbody>\n",
       "</table>\n",
       "</div>"
      ],
      "text/plain": [
       "   month  number_of_people  conversions  conversion_percent\n",
       "4      1              1181           76                6.44\n",
       "3      2              2324          325               13.98\n",
       "7      3               347          181               52.16\n",
       "0      4              2623          493               18.80\n",
       "8      5             12571          796                6.33"
      ]
     },
     "execution_count": 190,
     "metadata": {},
     "output_type": "execute_result"
    }
   ],
   "source": [
    "df_month_groupby.head(5)\n",
    "# MONTH HAS NO ADDITIONAL EFFECT SO NOT TAKING IT IN THE MODELING PROCESS"
   ]
  },
  {
   "cell_type": "code",
   "execution_count": 191,
   "id": "6d3c1102",
   "metadata": {},
   "outputs": [
    {
     "data": {
      "image/png": "[encoded data removed]",
      "text/plain": [
       "<Figure size 432x288 with 1 Axes>"
      ]
     },
     "metadata": {
      "needs_background": "light"
     },
     "output_type": "display_data"
    }
   ],
   "source": [
    "ax = df_month_groupby.plot(x=\"month\", y=[\"number_of_people\"], kind=\"line\", legend=False, style='o-')\n",
    "# ax.bar_label(ax.containers[0], label_type='edge')\n",
    "plt.title ('Number of Phone calls X Month distribution')\n",
    "plt.xlabel ('Month')\n",
    "plt.ylabel ('Number of calls')\n",
    "plt.xticks(df_month_groupby['month'])\n",
    "plt.show()"
   ]
  },
  {
   "cell_type": "code",
   "execution_count": 192,
   "id": "b98d8117",
   "metadata": {},
   "outputs": [
    {
     "data": {
      "image/png": "[encoded data removed]",
      "text/plain": [
       "<Figure size 432x288 with 1 Axes>"
      ]
     },
     "metadata": {
      "needs_background": "light"
     },
     "output_type": "display_data"
    }
   ],
   "source": [
    "ax = df_month_groupby.plot(x=\"month\", y=[\"conversions\"], kind=\"line\", legend=False, style='o-')\n",
    "# ax.bar_label(ax.containers[0], label_type='edge')\n",
    "plt.title ('Number of Phone calls X Month distribution')\n",
    "plt.xlabel ('Month')\n",
    "plt.ylabel ('Number of calls')\n",
    "plt.xticks(df_month_groupby['month'])\n",
    "plt.show()"
   ]
  },
  {
   "cell_type": "code",
   "execution_count": 193,
   "id": "b2774d0b",
   "metadata": {},
   "outputs": [
    {
     "data": {
      "image/png": "[encoded data removed]",
      "text/plain": [
       "<Figure size 432x288 with 2 Axes>"
      ]
     },
     "metadata": {
      "needs_background": "light"
     },
     "output_type": "display_data"
    }
   ],
   "source": [
    "\n",
    "fig, ax = plt.subplots()\n",
    "\n",
    "# Plot linear sequence, and set tick labels to the same color\n",
    "ax.plot(df_month_groupby['month'], df_month_groupby['number_of_people'], color='black', marker='o', label='Total number of Phone calls')\n",
    "ax.tick_params(axis='y', labelcolor='black')\n",
    "plt.legend()\n",
    "# Generate a new Axes instance, on the twin-X axes (same position)\n",
    "ax2 = ax.twinx()\n",
    "\n",
    "# Plot exponential sequence, set scale to logarithmic and change tick color\n",
    "ax2.plot(df_month_groupby['month'], df_month_groupby['conversions'], color='blue', marker='^', linestyle='--',label='Total number of Conversions')\n",
    "ax2.tick_params(axis='y', labelcolor='blue')\n",
    "\n",
    "\n",
    "\n",
    "\n",
    "plt.xticks(df_month_groupby['month'])\n",
    "plt.legend(bbox_to_anchor=(0.46, 0.85), loc='upper left', borderaxespad=0)\n",
    "\n",
    "plt.savefig('time.png')\n",
    "plt.xlabel ('Month')\n",
    "plt.show()\n",
    "\n",
    "\n"
   ]
  },
  {
   "cell_type": "markdown",
   "id": "650c8308",
   "metadata": {},
   "source": [
    "# MODEL"
   ]
  },
  {
   "cell_type": "code",
   "execution_count": 194,
   "id": "e2d17239",
   "metadata": {},
   "outputs": [
    {
     "data": {
      "text/html": [
       "<div>\n",
       "<style scoped>\n",
       "    .dataframe tbody tr th:only-of-type {\n",
       "        vertical-align: middle;\n",
       "    }\n",
       "\n",
       "    .dataframe tbody tr th {\n",
       "        vertical-align: top;\n",
       "    }\n",
       "\n",
       "    .dataframe thead th {\n",
       "        text-align: right;\n",
       "    }\n",
       "</style>\n",
       "<table border=\"1\" class=\"dataframe\">\n",
       "  <thead>\n",
       "    <tr style=\"text-align: right;\">\n",
       "      <th></th>\n",
       "      <th>age</th>\n",
       "      <th>job</th>\n",
       "      <th>marital</th>\n",
       "      <th>education</th>\n",
       "      <th>default</th>\n",
       "      <th>balance</th>\n",
       "      <th>housing</th>\n",
       "      <th>loan</th>\n",
       "      <th>contact</th>\n",
       "      <th>day</th>\n",
       "      <th>month</th>\n",
       "      <th>duration</th>\n",
       "      <th>campaign</th>\n",
       "      <th>pdays</th>\n",
       "      <th>previous</th>\n",
       "      <th>poutcome</th>\n",
       "      <th>y</th>\n",
       "    </tr>\n",
       "  </thead>\n",
       "  <tbody>\n",
       "    <tr>\n",
       "      <th>0</th>\n",
       "      <td>36.0</td>\n",
       "      <td>management</td>\n",
       "      <td>married</td>\n",
       "      <td>tertiary</td>\n",
       "      <td>no</td>\n",
       "      <td>101</td>\n",
       "      <td>yes</td>\n",
       "      <td>yes</td>\n",
       "      <td>unknown</td>\n",
       "      <td>5</td>\n",
       "      <td>may</td>\n",
       "      <td>426</td>\n",
       "      <td>1</td>\n",
       "      <td>0</td>\n",
       "      <td>0</td>\n",
       "      <td>unknown</td>\n",
       "      <td>0</td>\n",
       "    </tr>\n",
       "    <tr>\n",
       "      <th>1</th>\n",
       "      <td>57.0</td>\n",
       "      <td>technician</td>\n",
       "      <td>married</td>\n",
       "      <td>unknown</td>\n",
       "      <td>no</td>\n",
       "      <td>206</td>\n",
       "      <td>yes</td>\n",
       "      <td>no</td>\n",
       "      <td>unknown</td>\n",
       "      <td>5</td>\n",
       "      <td>may</td>\n",
       "      <td>216</td>\n",
       "      <td>3</td>\n",
       "      <td>0</td>\n",
       "      <td>0</td>\n",
       "      <td>unknown</td>\n",
       "      <td>0</td>\n",
       "    </tr>\n",
       "    <tr>\n",
       "      <th>2</th>\n",
       "      <td>54.0</td>\n",
       "      <td>services</td>\n",
       "      <td>married</td>\n",
       "      <td>secondary</td>\n",
       "      <td>yes</td>\n",
       "      <td>0</td>\n",
       "      <td>yes</td>\n",
       "      <td>no</td>\n",
       "      <td>unknown</td>\n",
       "      <td>6</td>\n",
       "      <td>may</td>\n",
       "      <td>138</td>\n",
       "      <td>3</td>\n",
       "      <td>0</td>\n",
       "      <td>0</td>\n",
       "      <td>unknown</td>\n",
       "      <td>0</td>\n",
       "    </tr>\n",
       "    <tr>\n",
       "      <th>3</th>\n",
       "      <td>51.0</td>\n",
       "      <td>blue-collar</td>\n",
       "      <td>married</td>\n",
       "      <td>secondary</td>\n",
       "      <td>no</td>\n",
       "      <td>50</td>\n",
       "      <td>yes</td>\n",
       "      <td>yes</td>\n",
       "      <td>unknown</td>\n",
       "      <td>6</td>\n",
       "      <td>may</td>\n",
       "      <td>121</td>\n",
       "      <td>1</td>\n",
       "      <td>0</td>\n",
       "      <td>0</td>\n",
       "      <td>unknown</td>\n",
       "      <td>0</td>\n",
       "    </tr>\n",
       "    <tr>\n",
       "      <th>4</th>\n",
       "      <td>49.0</td>\n",
       "      <td>technician</td>\n",
       "      <td>married</td>\n",
       "      <td>unknown</td>\n",
       "      <td>no</td>\n",
       "      <td>15</td>\n",
       "      <td>no</td>\n",
       "      <td>no</td>\n",
       "      <td>unknown</td>\n",
       "      <td>6</td>\n",
       "      <td>may</td>\n",
       "      <td>92</td>\n",
       "      <td>2</td>\n",
       "      <td>0</td>\n",
       "      <td>0</td>\n",
       "      <td>unknown</td>\n",
       "      <td>0</td>\n",
       "    </tr>\n",
       "  </tbody>\n",
       "</table>\n",
       "</div>"
      ],
      "text/plain": [
       "    age          job  marital  education default  balance housing loan  \\\n",
       "0  36.0   management  married   tertiary      no      101     yes  yes   \n",
       "1  57.0   technician  married    unknown      no      206     yes   no   \n",
       "2  54.0     services  married  secondary     yes        0     yes   no   \n",
       "3  51.0  blue-collar  married  secondary      no       50     yes  yes   \n",
       "4  49.0   technician  married    unknown      no       15      no   no   \n",
       "\n",
       "   contact  day month  duration  campaign  pdays  previous poutcome  y  \n",
       "0  unknown    5   may       426         1      0         0  unknown  0  \n",
       "1  unknown    5   may       216         3      0         0  unknown  0  \n",
       "2  unknown    6   may       138         3      0         0  unknown  0  \n",
       "3  unknown    6   may       121         1      0         0  unknown  0  \n",
       "4  unknown    6   may        92         2      0         0  unknown  0  "
      ]
     },
     "execution_count": 194,
     "metadata": {},
     "output_type": "execute_result"
    }
   ],
   "source": [
    "df.head(5)"
   ]
  },
  {
   "cell_type": "code",
   "execution_count": 196,
   "id": "1f930278",
   "metadata": {},
   "outputs": [],
   "source": [
    "# Converting columns into one hot encoding\n",
    "job_dummies = pd.get_dummies(df.job, prefix='job')\n",
    "marital_dummies = pd.get_dummies(df.marital, prefix='marital')\n",
    "education_dummies = pd.get_dummies(df.education, prefix='education')\n",
    "default_dummies = pd.get_dummies(df.default, prefix='default')\n",
    "housing_dummies = pd.get_dummies(df.housing, prefix='housing')\n",
    "loan_dummies = pd.get_dummies(df.loan, prefix='loan')\n",
    "contact_dummies = pd.get_dummies(df.contact, prefix='contact')\n",
    "poutcome_dummies = pd.get_dummies(df.poutcome, prefix='poutcome')\n",
    "month_dummies = pd.get_dummies(df.month, prefix='month_')\n",
    "campaign_dummies = pd.get_dummies(df.campaign, prefix='campaign_')\n",
    "\n",
    "\n",
    "\n",
    "# Getting day of week from day column as the year is not given assuming the following distribution\n",
    "def week_of_month(x):\n",
    "    x = int(x)\n",
    "    a = 0\n",
    "    if x >= 0 and x < 7:\n",
    "        a = 1\n",
    "    elif x >= 7 and x < 14:\n",
    "        a = 2\n",
    "    elif x >= 14 and x < 21:\n",
    "        a = 3\n",
    "    else:\n",
    "        a = 4\n",
    "    return a\n",
    "        \n",
    "df['week_of_month'] = df['day'].apply(week_of_month)\n",
    "\n",
    "week_of_month_dummies = pd.get_dummies(df.week_of_month, prefix='week_of_month')\n",
    "\n"
   ]
  },
  {
   "cell_type": "code",
   "execution_count": 197,
   "id": "58338e91",
   "metadata": {},
   "outputs": [],
   "source": [
    "df_final_train = df.drop(['job','marital','education','default','housing','loan','contact','poutcome','day','month','campaign','week_of_month']                                   \n",
    "    , axis = 'columns')"
   ]
  },
  {
   "cell_type": "code",
   "execution_count": 198,
   "id": "5cbdcbbf",
   "metadata": {},
   "outputs": [],
   "source": [
    "df_final_train = pd.concat([df_final_train, job_dummies,marital_dummies,education_dummies\n",
    "           ,default_dummies,housing_dummies,loan_dummies,contact_dummies,poutcome_dummies, month_dummies,week_of_month_dummies,\n",
    "                            campaign_dummies\n",
    "                    ], axis= 'columns')"
   ]
  },
  {
   "cell_type": "code",
   "execution_count": 199,
   "id": "ed023b76",
   "metadata": {},
   "outputs": [
    {
     "data": {
      "text/html": [
       "<div>\n",
       "<style scoped>\n",
       "    .dataframe tbody tr th:only-of-type {\n",
       "        vertical-align: middle;\n",
       "    }\n",
       "\n",
       "    .dataframe tbody tr th {\n",
       "        vertical-align: top;\n",
       "    }\n",
       "\n",
       "    .dataframe thead th {\n",
       "        text-align: right;\n",
       "    }\n",
       "</style>\n",
       "<table border=\"1\" class=\"dataframe\">\n",
       "  <thead>\n",
       "    <tr style=\"text-align: right;\">\n",
       "      <th></th>\n",
       "      <th>age</th>\n",
       "      <th>balance</th>\n",
       "      <th>duration</th>\n",
       "      <th>pdays</th>\n",
       "      <th>previous</th>\n",
       "      <th>y</th>\n",
       "      <th>job_admin</th>\n",
       "      <th>job_blue-collar</th>\n",
       "      <th>job_entrepreneur</th>\n",
       "      <th>job_housemaid</th>\n",
       "      <th>...</th>\n",
       "      <th>campaign__39</th>\n",
       "      <th>campaign__41</th>\n",
       "      <th>campaign__43</th>\n",
       "      <th>campaign__44</th>\n",
       "      <th>campaign__46</th>\n",
       "      <th>campaign__50</th>\n",
       "      <th>campaign__51</th>\n",
       "      <th>campaign__55</th>\n",
       "      <th>campaign__58</th>\n",
       "      <th>campaign__63</th>\n",
       "    </tr>\n",
       "  </thead>\n",
       "  <tbody>\n",
       "    <tr>\n",
       "      <th>0</th>\n",
       "      <td>36.0</td>\n",
       "      <td>101</td>\n",
       "      <td>426</td>\n",
       "      <td>0</td>\n",
       "      <td>0</td>\n",
       "      <td>0</td>\n",
       "      <td>0</td>\n",
       "      <td>0</td>\n",
       "      <td>0</td>\n",
       "      <td>0</td>\n",
       "      <td>...</td>\n",
       "      <td>0</td>\n",
       "      <td>0</td>\n",
       "      <td>0</td>\n",
       "      <td>0</td>\n",
       "      <td>0</td>\n",
       "      <td>0</td>\n",
       "      <td>0</td>\n",
       "      <td>0</td>\n",
       "      <td>0</td>\n",
       "      <td>0</td>\n",
       "    </tr>\n",
       "    <tr>\n",
       "      <th>1</th>\n",
       "      <td>57.0</td>\n",
       "      <td>206</td>\n",
       "      <td>216</td>\n",
       "      <td>0</td>\n",
       "      <td>0</td>\n",
       "      <td>0</td>\n",
       "      <td>0</td>\n",
       "      <td>0</td>\n",
       "      <td>0</td>\n",
       "      <td>0</td>\n",
       "      <td>...</td>\n",
       "      <td>0</td>\n",
       "      <td>0</td>\n",
       "      <td>0</td>\n",
       "      <td>0</td>\n",
       "      <td>0</td>\n",
       "      <td>0</td>\n",
       "      <td>0</td>\n",
       "      <td>0</td>\n",
       "      <td>0</td>\n",
       "      <td>0</td>\n",
       "    </tr>\n",
       "    <tr>\n",
       "      <th>2</th>\n",
       "      <td>54.0</td>\n",
       "      <td>0</td>\n",
       "      <td>138</td>\n",
       "      <td>0</td>\n",
       "      <td>0</td>\n",
       "      <td>0</td>\n",
       "      <td>0</td>\n",
       "      <td>0</td>\n",
       "      <td>0</td>\n",
       "      <td>0</td>\n",
       "      <td>...</td>\n",
       "      <td>0</td>\n",
       "      <td>0</td>\n",
       "      <td>0</td>\n",
       "      <td>0</td>\n",
       "      <td>0</td>\n",
       "      <td>0</td>\n",
       "      <td>0</td>\n",
       "      <td>0</td>\n",
       "      <td>0</td>\n",
       "      <td>0</td>\n",
       "    </tr>\n",
       "    <tr>\n",
       "      <th>3</th>\n",
       "      <td>51.0</td>\n",
       "      <td>50</td>\n",
       "      <td>121</td>\n",
       "      <td>0</td>\n",
       "      <td>0</td>\n",
       "      <td>0</td>\n",
       "      <td>0</td>\n",
       "      <td>1</td>\n",
       "      <td>0</td>\n",
       "      <td>0</td>\n",
       "      <td>...</td>\n",
       "      <td>0</td>\n",
       "      <td>0</td>\n",
       "      <td>0</td>\n",
       "      <td>0</td>\n",
       "      <td>0</td>\n",
       "      <td>0</td>\n",
       "      <td>0</td>\n",
       "      <td>0</td>\n",
       "      <td>0</td>\n",
       "      <td>0</td>\n",
       "    </tr>\n",
       "    <tr>\n",
       "      <th>4</th>\n",
       "      <td>49.0</td>\n",
       "      <td>15</td>\n",
       "      <td>92</td>\n",
       "      <td>0</td>\n",
       "      <td>0</td>\n",
       "      <td>0</td>\n",
       "      <td>0</td>\n",
       "      <td>0</td>\n",
       "      <td>0</td>\n",
       "      <td>0</td>\n",
       "      <td>...</td>\n",
       "      <td>0</td>\n",
       "      <td>0</td>\n",
       "      <td>0</td>\n",
       "      <td>0</td>\n",
       "      <td>0</td>\n",
       "      <td>0</td>\n",
       "      <td>0</td>\n",
       "      <td>0</td>\n",
       "      <td>0</td>\n",
       "      <td>0</td>\n",
       "    </tr>\n",
       "  </tbody>\n",
       "</table>\n",
       "<p>5 rows × 103 columns</p>\n",
       "</div>"
      ],
      "text/plain": [
       "    age  balance  duration  pdays  previous  y  job_admin  job_blue-collar  \\\n",
       "0  36.0      101       426      0         0  0          0                0   \n",
       "1  57.0      206       216      0         0  0          0                0   \n",
       "2  54.0        0       138      0         0  0          0                0   \n",
       "3  51.0       50       121      0         0  0          0                1   \n",
       "4  49.0       15        92      0         0  0          0                0   \n",
       "\n",
       "   job_entrepreneur  job_housemaid  ...  campaign__39  campaign__41  \\\n",
       "0                 0              0  ...             0             0   \n",
       "1                 0              0  ...             0             0   \n",
       "2                 0              0  ...             0             0   \n",
       "3                 0              0  ...             0             0   \n",
       "4                 0              0  ...             0             0   \n",
       "\n",
       "   campaign__43  campaign__44  campaign__46  campaign__50  campaign__51  \\\n",
       "0             0             0             0             0             0   \n",
       "1             0             0             0             0             0   \n",
       "2             0             0             0             0             0   \n",
       "3             0             0             0             0             0   \n",
       "4             0             0             0             0             0   \n",
       "\n",
       "   campaign__55  campaign__58  campaign__63  \n",
       "0             0             0             0  \n",
       "1             0             0             0  \n",
       "2             0             0             0  \n",
       "3             0             0             0  \n",
       "4             0             0             0  \n",
       "\n",
       "[5 rows x 103 columns]"
      ]
     },
     "execution_count": 199,
     "metadata": {},
     "output_type": "execute_result"
    }
   ],
   "source": [
    "df_final_train.head(5)"
   ]
  },
  {
   "cell_type": "code",
   "execution_count": 200,
   "id": "4cf9d43d",
   "metadata": {},
   "outputs": [
    {
     "data": {
      "text/plain": [
       "age             float64\n",
       "balance           int64\n",
       "duration          int64\n",
       "pdays             int64\n",
       "previous          int64\n",
       "                 ...   \n",
       "campaign__50      uint8\n",
       "campaign__51      uint8\n",
       "campaign__55      uint8\n",
       "campaign__58      uint8\n",
       "campaign__63      uint8\n",
       "Length: 103, dtype: object"
      ]
     },
     "execution_count": 200,
     "metadata": {},
     "output_type": "execute_result"
    }
   ],
   "source": [
    "# Cjecking data types post creation of test and train set\n",
    "df_final_train.dtypes"
   ]
  },
  {
   "cell_type": "code",
   "execution_count": 201,
   "id": "177e5ad2",
   "metadata": {},
   "outputs": [],
   "source": [
    "X = df_final_train.drop(['y'], axis = 'columns')\n",
    "y = df_final_train['y']"
   ]
  },
  {
   "cell_type": "code",
   "execution_count": 202,
   "id": "432608f0",
   "metadata": {},
   "outputs": [],
   "source": [
    "X_train, X_test, y_train, y_test = train_test_split(X, y, test_size=0.20, random_state=42)"
   ]
  },
  {
   "cell_type": "code",
   "execution_count": 204,
   "id": "25f9da20",
   "metadata": {},
   "outputs": [
    {
     "name": "stdout",
     "output_type": "stream",
     "text": [
      "(31955, 102)\n",
      "(31955,)\n",
      "(7989, 102)\n",
      "(7989,)\n"
     ]
    }
   ],
   "source": [
    "print (X_train.shape)\n",
    "print (y_train.shape)\n",
    "print (X_test.shape)\n",
    "print (y_test.shape)"
   ]
  },
  {
   "cell_type": "markdown",
   "id": "0834451b",
   "metadata": {},
   "source": [
    "# Logistic Regression model"
   ]
  },
  {
   "cell_type": "code",
   "execution_count": 205,
   "id": "b4305dcc",
   "metadata": {},
   "outputs": [],
   "source": [
    "# Normlizing data for Logistic regression\n",
    "scaler = StandardScaler()\n",
    "X_train_minmax = pd.DataFrame(scaler.fit_transform(X_train),columns=list(X_train.columns))\n",
    "X_test_minmax = pd.DataFrame(scaler.fit_transform(X_test),columns=list(X_test.columns))"
   ]
  },
  {
   "cell_type": "code",
   "execution_count": 206,
   "id": "f74abdce",
   "metadata": {},
   "outputs": [],
   "source": [
    "# Creating a dictionary for logistic regression hyperparameters\n",
    "warnings.filterwarnings(\"ignore\", category = UserWarning)\n",
    "max_iter_options = [1000]\n",
    "penalty_options = [\"l1\", \"l2\"]\n",
    "solver_options = ['saga']\n",
    "C_options = [100,500,1000,5000,10000]\n",
    "class_weight_options = [{0: 1, 1:10}]\n",
    "lr_param_grid = dict(penalty = penalty_options, C = C_options, max_iter = max_iter_options, solver = solver_options, class_weight = class_weight_options )\n"
   ]
  },
  {
   "cell_type": "code",
   "execution_count": 207,
   "id": "0c014fb3",
   "metadata": {},
   "outputs": [
    {
     "data": {
      "text/plain": [
       "GridSearchCV(cv=3, estimator=LogisticRegression(),\n",
       "             param_grid={'C': [100, 500, 1000, 5000, 10000],\n",
       "                         'class_weight': [{0: 1, 1: 10}], 'max_iter': [1000],\n",
       "                         'penalty': ['l1', 'l2'], 'solver': ['saga']},\n",
       "             scoring='balanced_accuracy')"
      ]
     },
     "execution_count": 207,
     "metadata": {},
     "output_type": "execute_result"
    }
   ],
   "source": [
    "logistic_reg =  LogisticRegression()\n",
    "clf_lr = GridSearchCV(logistic_reg, lr_param_grid, cv = 3, scoring = 'balanced_accuracy')\n",
    "clf_lr.fit(X_train_minmax,y_train)"
   ]
  },
  {
   "cell_type": "code",
   "execution_count": 208,
   "id": "0a9f41f8",
   "metadata": {},
   "outputs": [
    {
     "name": "stdout",
     "output_type": "stream",
     "text": [
      "0.8419720857899545\n",
      "{'C': 100, 'class_weight': {0: 1, 1: 10}, 'max_iter': 1000, 'penalty': 'l1', 'solver': 'saga'}\n",
      "LogisticRegression(C=100, class_weight={0: 1, 1: 10}, max_iter=1000,\n",
      "                   penalty='l1', solver='saga')\n"
     ]
    }
   ],
   "source": [
    "print (clf_lr.best_score_)\n",
    "print (clf_lr.best_params_)\n",
    "print (clf_lr.best_estimator_)\n",
    "logistic_regression_all_results = (pd.DataFrame(clf_lr.cv_results_))"
   ]
  },
  {
   "cell_type": "code",
   "execution_count": 209,
   "id": "2df81855",
   "metadata": {},
   "outputs": [
    {
     "name": "stdout",
     "output_type": "stream",
     "text": [
      "0.8419720857899545\n"
     ]
    }
   ],
   "source": [
    "print(clf_lr.best_score_)"
   ]
  },
  {
   "cell_type": "code",
   "execution_count": 210,
   "id": "710b3a42",
   "metadata": {},
   "outputs": [
    {
     "data": {
      "text/plain": [
       "LogisticRegression(C=100, class_weight={0: 1, 1: 10}, max_iter=1000,\n",
       "                   penalty='l1', solver='saga')"
      ]
     },
     "execution_count": 210,
     "metadata": {},
     "output_type": "execute_result"
    }
   ],
   "source": [
    "# Retraining the RFC classifier on the best hyperparameters post grid search\n",
    "clf_tuned_lr = clf_lr.best_estimator_\n",
    "clf_tuned_lr.fit(X_train_minmax, y_train)\n"
   ]
  },
  {
   "cell_type": "code",
   "execution_count": 282,
   "id": "143e8c49",
   "metadata": {
    "scrolled": false
   },
   "outputs": [
    {
     "name": "stdout",
     "output_type": "stream",
     "text": [
      "              precision    recall  f1-score   support\n",
      "\n",
      "           1       0.35      0.52      0.42       761\n",
      "           0       0.95      0.90      0.92      7228\n",
      "\n",
      "    accuracy                           0.86      7989\n",
      "   macro avg       0.65      0.71      0.67      7989\n",
      "weighted avg       0.89      0.86      0.87      7989\n",
      "\n"
     ]
    }
   ],
   "source": [
    "# y_pred_lr = clf_tuned_lr.predict(X_test_minmax)\n",
    "y_pred_lr = (clf_tuned_lr.predict_proba(X_test)[:,1] >= 0.67).astype(bool)\n",
    "\n",
    "print(classification_report(y_test, y_pred_lr, labels=[1, 0]))"
   ]
  },
  {
   "cell_type": "code",
   "execution_count": 212,
   "id": "c17a7de1",
   "metadata": {},
   "outputs": [
    {
     "data": {
      "image/png": "[encoded data removed]",
      "text/plain": [
       "<Figure size 432x288 with 1 Axes>"
      ]
     },
     "metadata": {
      "needs_background": "light"
     },
     "output_type": "display_data"
    },
    {
     "data": {
      "image/png": "[encoded data removed]",
      "text/plain": [
       "<Figure size 432x288 with 1 Axes>"
      ]
     },
     "metadata": {
      "needs_background": "light"
     },
     "output_type": "display_data"
    },
    {
     "data": {
      "image/png": "[encoded data removed]",
      "text/plain": [
       "<Figure size 432x288 with 1 Axes>"
      ]
     },
     "metadata": {
      "needs_background": "light"
     },
     "output_type": "display_data"
    }
   ],
   "source": [
    "#LR curves\n",
    "\n",
    "skplt.metrics.plot_roc(y_test, clf_tuned_lr.predict_proba(X_test_minmax), plot_micro =False, plot_macro = False)\n",
    "\n",
    "skplt.metrics.plot_cumulative_gain(y_test, clf_tuned_lr.predict_proba(X_test_minmax))\n",
    "\n",
    "skplt.metrics.plot_lift_curve(y_test, clf_tuned_lr.predict_proba(X_test_minmax))\n",
    "\n",
    "plt.show()\n"
   ]
  },
  {
   "cell_type": "markdown",
   "id": "cb031a9c",
   "metadata": {},
   "source": [
    "# Random forest model"
   ]
  },
  {
   "cell_type": "code",
   "execution_count": 213,
   "id": "44cd4929",
   "metadata": {},
   "outputs": [],
   "source": [
    "NFOLDS = 3\n",
    "SEED = 0\n",
    "NROWS = None\n",
    "\n",
    "rfc = RandomForestClassifier(random_state = 42)\n",
    "\n",
    "rf_params = {\n",
    "    'n_jobs': [-1],\n",
    "    'n_estimators': [200,400],\n",
    "    'max_features': [0.2,0.6,0.9],\n",
    "    'max_depth': [12,16,20,24],\n",
    "    'min_samples_leaf': [2,6,10],\n",
    "    'class_weight':[{0: 1, 1:10}]\n",
    "}"
   ]
  },
  {
   "cell_type": "code",
   "execution_count": 214,
   "id": "359fdb9e",
   "metadata": {},
   "outputs": [
    {
     "data": {
      "text/plain": [
       "GridSearchCV(cv=3, estimator=RandomForestClassifier(random_state=42),\n",
       "             param_grid={'class_weight': [{0: 1, 1: 10}],\n",
       "                         'max_depth': [12, 16, 20, 24],\n",
       "                         'max_features': [0.2, 0.6, 0.9],\n",
       "                         'min_samples_leaf': [2, 6, 10],\n",
       "                         'n_estimators': [200, 400], 'n_jobs': [-1]},\n",
       "             scoring='balanced_accuracy')"
      ]
     },
     "execution_count": 214,
     "metadata": {},
     "output_type": "execute_result"
    }
   ],
   "source": [
    "clf_rf = GridSearchCV(rfc, rf_params, cv = NFOLDS, scoring='balanced_accuracy')\n",
    "clf_rf.fit(X_train, y_train)"
   ]
  },
  {
   "cell_type": "code",
   "execution_count": 215,
   "id": "9cfc168b",
   "metadata": {},
   "outputs": [
    {
     "name": "stdout",
     "output_type": "stream",
     "text": [
      "0.8550389838010267\n",
      "{'class_weight': {0: 1, 1: 10}, 'max_depth': 20, 'max_features': 0.2, 'min_samples_leaf': 10, 'n_estimators': 200, 'n_jobs': -1}\n",
      "RandomForestClassifier(class_weight={0: 1, 1: 10}, max_depth=20,\n",
      "                       max_features=0.2, min_samples_leaf=10, n_estimators=200,\n",
      "                       n_jobs=-1, random_state=42)\n"
     ]
    }
   ],
   "source": [
    "print (clf_rf.best_score_)\n",
    "print (clf_rf.best_params_)\n",
    "print (clf_rf.best_estimator_)\n",
    "random_forest_all_results = (pd.DataFrame(clf_rf.cv_results_))"
   ]
  },
  {
   "cell_type": "code",
   "execution_count": 265,
   "id": "f1fb85a9",
   "metadata": {},
   "outputs": [],
   "source": [
    "# Retraining the RFC classifier on the best hyperparameters post grid search\n",
    "clf_tuned_rf = clf_rf.best_estimator_\n",
    "clf_tuned_rf.fit(X_train, y_train)\n",
    "# y_pred_rf = clf_tuned_rf.predict(X_test)"
   ]
  },
  {
   "cell_type": "code",
   "execution_count": 273,
   "id": "249f339a",
   "metadata": {},
   "outputs": [],
   "source": [
    "y_pred_rf = (clf_tuned_rf.predict_proba(X_test)[:,1] >= 0.67).astype(bool)"
   ]
  },
  {
   "cell_type": "code",
   "execution_count": 274,
   "id": "303181ba",
   "metadata": {},
   "outputs": [
    {
     "name": "stdout",
     "output_type": "stream",
     "text": [
      "              precision    recall  f1-score   support\n",
      "\n",
      "           1       0.51      0.68      0.58       761\n",
      "           0       0.97      0.93      0.95      7228\n",
      "\n",
      "    accuracy                           0.91      7989\n",
      "   macro avg       0.74      0.81      0.76      7989\n",
      "weighted avg       0.92      0.91      0.91      7989\n",
      "\n"
     ]
    }
   ],
   "source": [
    "print(classification_report(y_test, y_pred_rf, labels=[1, 0]))"
   ]
  },
  {
   "cell_type": "code",
   "execution_count": 218,
   "id": "6862683a",
   "metadata": {},
   "outputs": [
    {
     "data": {
      "image/png": "[encoded data removed]",
      "text/plain": [
       "<Figure size 432x288 with 1 Axes>"
      ]
     },
     "metadata": {
      "needs_background": "light"
     },
     "output_type": "display_data"
    },
    {
     "data": {
      "image/png": "[encoded data removed]",
      "text/plain": [
       "<Figure size 432x288 with 1 Axes>"
      ]
     },
     "metadata": {
      "needs_background": "light"
     },
     "output_type": "display_data"
    },
    {
     "data": {
      "image/png": "[encoded data removed]",
      "text/plain": [
       "<Figure size 432x288 with 1 Axes>"
      ]
     },
     "metadata": {
      "needs_background": "light"
     },
     "output_type": "display_data"
    }
   ],
   "source": [
    "#RF curves\n",
    "\n",
    "skplt.metrics.plot_roc(y_test, clf_tuned_rf.predict_proba(X_test), plot_micro =False, plot_macro = False)\n",
    "\n",
    "skplt.metrics.plot_cumulative_gain(y_test, clf_tuned_rf.predict_proba(X_test))\n",
    "\n",
    "skplt.metrics.plot_lift_curve(y_test, clf_tuned_rf.predict_proba(X_test))\n",
    "\n",
    "plt.show()"
   ]
  },
  {
   "cell_type": "markdown",
   "id": "77397e06",
   "metadata": {},
   "source": [
    "# XG boost "
   ]
  },
  {
   "cell_type": "code",
   "execution_count": 219,
   "id": "d871cfac",
   "metadata": {},
   "outputs": [],
   "source": [
    "xgbc_grid = {\n",
    "    'n_estimators': [300, 600, 900],\n",
    "    'max_depth': [5, 10, 15],\n",
    "    'subsample': [0.2,0.6, 1],\n",
    "    'lambda':[100,1000],\n",
    "    'alpha': [100,1000]\n",
    "    }"
   ]
  },
  {
   "cell_type": "code",
   "execution_count": 220,
   "id": "fd983828",
   "metadata": {},
   "outputs": [],
   "source": [
    "xgbc = xgb.XGBClassifier(scale_pos_weight = 10, random_state=42)"
   ]
  },
  {
   "cell_type": "code",
   "execution_count": 221,
   "id": "7cac6d06",
   "metadata": {},
   "outputs": [
    {
     "data": {
      "text/plain": [
       "BayesSearchCV(cv=3,\n",
       "              estimator=XGBClassifier(base_score=None, booster=None,\n",
       "                                      callbacks=None, colsample_bylevel=None,\n",
       "                                      colsample_bynode=None,\n",
       "                                      colsample_bytree=None,\n",
       "                                      early_stopping_rounds=None,\n",
       "                                      enable_categorical=False,\n",
       "                                      eval_metric=None, gamma=None, gpu_id=None,\n",
       "                                      grow_policy=None, importance_type=None,\n",
       "                                      interaction_constraints=None,\n",
       "                                      learning_rate=None, max_bin=None,\n",
       "                                      max_c...\n",
       "                                      max_leaves=None, min_child_weight=None,\n",
       "                                      missing=nan, monotone_constraints=None,\n",
       "                                      n_estimators=100, n_jobs=None,\n",
       "                                      num_parallel_tree=None, predictor=None,\n",
       "                                      random_state=42, reg_alpha=None,\n",
       "                                      reg_lambda=None, ...),\n",
       "              n_iter=30, random_state=123, scoring='balanced_accuracy',\n",
       "              search_spaces={'alpha': [100, 1000], 'lambda': [100, 1000],\n",
       "                             'max_depth': [5, 10, 15],\n",
       "                             'n_estimators': [300, 600, 900],\n",
       "                             'subsample': [0.2, 0.6, 1]})"
      ]
     },
     "execution_count": 221,
     "metadata": {},
     "output_type": "execute_result"
    }
   ],
   "source": [
    "# clf_xg = GridSearchCV(xgbc, xgbc_grid, cv = 3, scoring='balanced_accuracy')\n",
    "clf_xg = BayesSearchCV(xgbc, xgbc_grid,n_iter = 30, cv = 3, scoring='balanced_accuracy',  random_state=123)\n",
    "clf_xg.fit(X_train, y_train)"
   ]
  },
  {
   "cell_type": "code",
   "execution_count": 222,
   "id": "12edb23e",
   "metadata": {},
   "outputs": [
    {
     "name": "stdout",
     "output_type": "stream",
     "text": [
      "0.866733095540629\n",
      "OrderedDict([('alpha', 102), ('lambda', 128), ('max_depth', 10), ('n_estimators', 300), ('subsample', 0.6)])\n",
      "XGBClassifier(alpha=102, base_score=0.5, booster='gbtree', callbacks=None,\n",
      "              colsample_bylevel=1, colsample_bynode=1, colsample_bytree=1,\n",
      "              early_stopping_rounds=None, enable_categorical=False,\n",
      "              eval_metric=None, gamma=0, gpu_id=-1, grow_policy='depthwise',\n",
      "              importance_type=None, interaction_constraints='', lambda=128,\n",
      "              learning_rate=0.300000012, max_bin=256, max_cat_to_onehot=4,\n",
      "              max_delta_step=0, max_depth=10, max_leaves=0, min_child_weight=1,\n",
      "              missing=nan, monotone_constraints='()', n_estimators=300,\n",
      "              n_jobs=0, num_parallel_tree=1, predictor='auto', random_state=42, ...)\n"
     ]
    }
   ],
   "source": [
    "print (clf_xg.best_score_)\n",
    "print (clf_xg.best_params_)\n",
    "print (clf_xg.best_estimator_)\n",
    "xg_boost_all_results = (pd.DataFrame(clf_xg.cv_results_))"
   ]
  },
  {
   "cell_type": "code",
   "execution_count": 267,
   "id": "08c83c57",
   "metadata": {},
   "outputs": [],
   "source": [
    "# Retraining the RFC classifier on the best hyperparameters post grid search\n",
    "clf_tuned_xg = clf_xg.best_estimator_\n",
    "clf_tuned_xg.fit(X_train, y_train)\n",
    "# y_pred_xg = clf_tuned_xg.predict(X_test)"
   ]
  },
  {
   "cell_type": "code",
   "execution_count": 277,
   "id": "939234a9",
   "metadata": {},
   "outputs": [],
   "source": [
    "y_pred_xg = (clf_tuned_xg.predict_proba(X_test)[:,1] >= 0.67).astype(bool)"
   ]
  },
  {
   "cell_type": "code",
   "execution_count": 278,
   "id": "3bf4adf4",
   "metadata": {},
   "outputs": [
    {
     "name": "stdout",
     "output_type": "stream",
     "text": [
      "              precision    recall  f1-score   support\n",
      "\n",
      "           1       0.45      0.80      0.58       761\n",
      "           0       0.98      0.90      0.94      7228\n",
      "\n",
      "    accuracy                           0.89      7989\n",
      "   macro avg       0.71      0.85      0.76      7989\n",
      "weighted avg       0.93      0.89      0.90      7989\n",
      "\n"
     ]
    }
   ],
   "source": [
    "print(classification_report(y_test, y_pred_xg, labels=[1, 0]))"
   ]
  },
  {
   "cell_type": "code",
   "execution_count": 225,
   "id": "d3e13ba7",
   "metadata": {},
   "outputs": [
    {
     "data": {
      "image/png": "[encoded data removed]",
      "text/plain": [
       "<Figure size 432x288 with 1 Axes>"
      ]
     },
     "metadata": {
      "needs_background": "light"
     },
     "output_type": "display_data"
    },
    {
     "data": {
      "image/png": "[encoded data removed]",
      "text/plain": [
       "<Figure size 432x288 with 1 Axes>"
      ]
     },
     "metadata": {
      "needs_background": "light"
     },
     "output_type": "display_data"
    },
    {
     "data": {
      "image/png": "[encoded data removed]",
      "text/plain": [
       "<Figure size 432x288 with 1 Axes>"
      ]
     },
     "metadata": {
      "needs_background": "light"
     },
     "output_type": "display_data"
    }
   ],
   "source": [
    "#XG boost curves\n",
    "\n",
    "skplt.metrics.plot_roc(y_test, clf_tuned_xg.predict_proba(X_test), plot_micro =False, plot_macro = False)\n",
    "\n",
    "skplt.metrics.plot_cumulative_gain(y_test, clf_tuned_xg.predict_proba(X_test))\n",
    "\n",
    "skplt.metrics.plot_lift_curve(y_test, clf_tuned_xg.predict_proba(X_test))\n",
    "\n",
    "plt.show()"
   ]
  }
 ],
 "metadata": {
  "kernelspec": {
   "display_name": "Python 3.9 (tensorflow)",
   "language": "python",
   "name": "tensorflow"
  },
  "language_info": {
   "codemirror_mode": {
    "name": "ipython",
    "version": 3
   },
   "file_extension": ".py",
   "mimetype": "text/x-python",
   "name": "python",
   "nbconvert_exporter": "python",
   "pygments_lexer": "ipython3",
   "version": "3.9.7"
  }
 },
 "nbformat": 4,
 "nbformat_minor": 5
}
